{
 "cells": [
  {
   "cell_type": "code",
   "execution_count": 1,
   "metadata": {},
   "outputs": [
    {
     "name": "stdout",
     "output_type": "stream",
     "text": [
      "Extracting MNIST_data/train-images-idx3-ubyte.gz\n",
      "Extracting MNIST_data/train-labels-idx1-ubyte.gz\n",
      "Extracting MNIST_data/t10k-images-idx3-ubyte.gz\n",
      "Extracting MNIST_data/t10k-labels-idx1-ubyte.gz\n"
     ]
    }
   ],
   "source": [
    "from tensorflow.examples.tutorials.mnist import input_data\n",
    "# reads mnist data.\n",
    "# mnist has training set (mnist.train), test set (mnist.test),\n",
    "# and validation set (mnist.validation)\n",
    "mnist = input_data.read_data_sets(\"MNIST_data/\", one_hot=True)"
   ]
  },
  {
   "cell_type": "code",
   "execution_count": 2,
   "metadata": {
    "collapsed": true
   },
   "outputs": [],
   "source": [
    "### NOTES REGARDING DATA SET\n",
    "## Training Set (55,000 dp)\n",
    "# mnist.train.images -> the \"x\"s.\n",
    "# - each image is 28x28 pixels.\n",
    "# - we will flatten this array to make a 784-d vector space.\n",
    "# - note: flattening data throws away info.\n",
    "#   - for future, don't do this! learn better methods!\n",
    "# - this images is a tensor with a shape of [55000, 784].\n",
    "#   - first-d is index into the list of images.\n",
    "#   - second-d is index for each pixel.\n",
    "#     - each entry in the tensor is a pixel intensity between 0-1\n",
    "# mnist.train.labels -> the \"y\"s.\n",
    "# - each image has a corresponding label, a # between 0 and 9.\n",
    "# - we want the \"one-hot vector\"\n",
    "#   - one-hot-vector: a vector which is 0 in most dimensions, and\n",
    "#      1 in a single dimension.\n",
    "#   - 3 would be [0,0,0,1,0,0,0,0,0,0]\n",
    "# - thus, mist.train.labels is a [55000, 10] array of floats.\n",
    "## Test Set (10,000 dp)\n",
    "## Validation Set (5,000 dp)"
   ]
  },
  {
   "cell_type": "code",
   "execution_count": 3,
   "metadata": {
    "collapsed": true
   },
   "outputs": [],
   "source": [
    "### SOFTMAX REGRESSIONS\n",
    "## Objective: look at an image -> get possibility for it being each digit\n",
    "## Usage:\n",
    "# if you want to assign ***probabilities*** to an object being\n",
    "#   one of several different things, softmax is the thing to do.\n",
    "## Steps:\n",
    "# 1. add up the evidence of our input being in certain classes.\n",
    "#   - to do this, we do a weighted sum of the pixel intensities.\n",
    "#   - the weight is negative if that pixel having a high intensity\n",
    "#     is evidence against the image being in that weight,\n",
    "#     and positive if it is evidence in favor.\n",
    "#   - we also add some bias! \n",
    "#     - we want to be able to say that some things are more likely\n",
    "#       independent of the input.\n",
    "#   > evidence_i = \\sum_j W_{i,j}x_j + b_i\n",
    "#     where W_i is the weights and b_i is the bias for class i,\n",
    "#       and j is an index for summing over the pixels in our input image x.\n",
    "# 2.  convert evidence into probabilities.\n",
    "#   - We convert the evidence tallied into our predicted probabilities y\n",
    "#     using the \"softmax\" function\n",
    "#     > y = softmax(evidence) = softmax(x) = normalized(exp(x))\n",
    "#     > softmax(x)_i = \\frac{\\exp(x_i)}{\\sum_j \\exp(x_j)}\n",
    "#   - Softmax is serving as an \"activation\" function, shaping the output\n",
    "#     of our linear function into the form we want.\n",
    "#   - Softmax = exponentiating its inputs and then normalizing them.\n",
    "#     - Softmax normalizes so that they add up to one, forming a valid\n",
    "#       probability distribution.\n",
    "#   - Vectorized procedure:\n",
    "#     > y = softmax(Wx + b)"
   ]
  },
  {
   "cell_type": "code",
   "execution_count": 4,
   "metadata": {
    "collapsed": true
   },
   "outputs": [],
   "source": [
    "import tensorflow as tf\n",
    "sess = tf.InteractiveSession()"
   ]
  },
  {
   "cell_type": "code",
   "execution_count": 5,
   "metadata": {
    "collapsed": true
   },
   "outputs": [],
   "source": [
    "# x is a placeholder (a value that we'll input when we ask tf to run \n",
    "#   a computation).\n",
    "# x represents the 784-d vector space of any number of images.\n",
    "#   None represents that the dimension can be of any length.\n",
    "x = tf.placeholder(tf.float32, [None, 784], name=\"x\")\n",
    "\n",
    "# W and b, here, are the weights and bias respectively.\n",
    "# Variable is a modifiable tensor that lives in tf's graph of interacting\n",
    "#   ops.\n",
    "# Variable can be used and even modified by the computation.\n",
    "# We create variables by providing initial values.\n",
    "#   - Here, we create matrixes and vectors of zeros.\n",
    "# W has a shape of 784 x 10. \n",
    "#   - 10 for the 10 classes (numbers), 784 for the image vector.\n",
    "#   - b has a shape of 10 for each of the 10 digits.\n",
    "W = tf.Variable(tf.zeros([784, 10]), name=\"W\")\n",
    "b = tf.Variable(tf.zeros([10]), name=\"b\")"
   ]
  },
  {
   "cell_type": "code",
   "execution_count": 6,
   "metadata": {},
   "outputs": [],
   "source": [
    "# we can now implement our model: y = softmax(Wx + b)\n",
    "# note that x and W is flipped. This is a small trick with x being \n",
    "# a 2D tensor with multiple inputs.(???)\n",
    "# new: matmul => matrix multiplication\n",
    "y = tf.matmul(x, W) + b"
   ]
  },
  {
   "cell_type": "code",
   "execution_count": 7,
   "metadata": {},
   "outputs": [],
   "source": [
    "# TRAINING: CROSS ENTROPY(???)\n",
    "# we want to minimize the loss function.\n",
    "# one common and very nice loss function is called \"cross-entropy\"\n",
    "# Cross-entropy:\n",
    "#   H_{y'}(y) = -\\sum_i[y'_i log(y_i)]\n",
    "#   where y is our predicted probability distribution, and\n",
    "#         y' is the true distribution (the one-hot vetor with the digit \n",
    "#           labels)\n",
    "# y_ here is y'\n",
    "y_ = tf.placeholder(tf.float32, [None, 10], name=\"y_\")\n",
    "cross_entropy = tf.reduce_mean(tf.nn.softmax_cross_entropy_with_logits(labels=y_, logits=y))\n",
    "# raw formulation of cross-entropy\n",
    "#               tf.reduce_mean(-tf.reduce_sum(y_ * tf.log(y), \n",
    "#                                             reduction_indices=[1])\n",
    "#                              , name=\"H_y\\'(y)\")\n",
    "train_step = tf.train.GradientDescentOptimizer(0.5).minimize(cross_entropy)"
   ]
  },
  {
   "cell_type": "code",
   "execution_count": 8,
   "metadata": {
    "collapsed": true
   },
   "outputs": [],
   "source": [
    "# TODO: learn about: cross entropy, tf.matmul"
   ]
  },
  {
   "cell_type": "code",
   "execution_count": 9,
   "metadata": {
    "collapsed": true
   },
   "outputs": [],
   "source": [
    "\n",
    "tf.global_variables_initializer().run() #initialize variables we created\n",
    "#training part:\n",
    "for _ in range(1000):\n",
    "    # next_batch is part of mnist's dataset class's function\n",
    "    # retrieves small batches of random data (stochastic training)\n",
    "    # in this case, it is stochastic gradient descent.\n",
    "    batch_xs, batch_ys = mnist.train.next_batch(100)\n",
    "    sess.run(train_step, feed_dict={x: batch_xs, y_:batch_ys})"
   ]
  },
  {
   "cell_type": "code",
   "execution_count": 10,
   "metadata": {},
   "outputs": [
    {
     "name": "stdout",
     "output_type": "stream",
     "text": [
      "0.9151\n"
     ]
    }
   ],
   "source": [
    "# evaluating the model\n",
    "# testing how well our model did.\n",
    "# tf.argmax allows us to see which label gives us the maximum \n",
    "#   probability.\n",
    "# the 1 in the below statement is the axis.\n",
    "# The axis describes which axis of the input Tensor to reduce across.\n",
    "correct_prediction = tf.equal(tf.argmax(y,1), tf.argmax(y_,1))\n",
    "# tf.reduce_mean takes the average over these sums\n",
    "# tf.cast casts values within the tensor to the type specified.\n",
    "accuracy = tf.reduce_mean(tf.cast(correct_prediction, tf.float32))\n",
    "print(sess.run(accuracy, feed_dict={x: mnist.test.images,\n",
    "                                   y_: mnist.test.labels}))"
   ]
  },
  {
   "cell_type": "code",
   "execution_count": 11,
   "metadata": {
    "collapsed": true
   },
   "outputs": [],
   "source": [
    "# writes the current state into a serializable format\n",
    "# to visualize the graph from sess.graph,\n",
    "#  go to localhost:6006\n",
    "file_writer = tf.summary.FileWriter('.', sess.graph)"
   ]
  }
 ],
 "metadata": {
  "kernelspec": {
   "display_name": "Python 3",
   "language": "python",
   "name": "python3"
  },
  "language_info": {
   "codemirror_mode": {
    "name": "ipython",
    "version": 3
   },
   "file_extension": ".py",
   "mimetype": "text/x-python",
   "name": "python",
   "nbconvert_exporter": "python",
   "pygments_lexer": "ipython3",
   "version": "3.5.2"
  }
 },
 "nbformat": 4,
 "nbformat_minor": 2
}
