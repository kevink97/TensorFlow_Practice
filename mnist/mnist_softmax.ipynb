{
 "cells": [
  {
   "cell_type": "code",
   "execution_count": null,
   "metadata": {},
   "outputs": [
    {
     "name": "stdout",
     "output_type": "stream",
     "text": [
      "Extracting MNIST_data/train-images-idx3-ubyte.gz\n",
      "Extracting MNIST_data/train-labels-idx1-ubyte.gz\n"
     ]
    }
   ],
   "source": [
    "from tensorflow.examples.tutorials.mnist import input_data\n",
    "# reads mnist data.\n",
    "# mnist has training set (mnist.train), test set (mnist.test),\n",
    "# and validation set (mnist.validation)\n",
    "mnist = input_data.read_data_sets(\"MNIST_data/\", one_hot=True)"
   ]
  },
  {
   "cell_type": "code",
   "execution_count": null,
   "metadata": {
    "collapsed": true
   },
   "outputs": [],
   "source": [
    "### NOTES REGARDING DATA SET\n",
    "## Training Set (55,000 dp)\n",
    "# mnist.train.images -> the \"x\"s.\n",
    "# - each image is 28x28 pixels.\n",
    "# - we will flatten this array to make a 784-d vector space.\n",
    "# - note: flattening data throws away info.\n",
    "#   - for future, don't do this! learn better methods!\n",
    "# - this images is a tensor with a shape of [55000, 784].\n",
    "#   - first-d is index into the list of images.\n",
    "#   - second-d is index for each pixel.\n",
    "#     - each entry in the tensor is a pixel intensity between 0-1\n",
    "# mnist.train.labels -> the \"y\"s.\n",
    "# - each image has a corresponding label, a # between 0 and 9.\n",
    "# - we want the \"one-hot vector\"\n",
    "#   - one-hot-vector: a vector which is 0 in most dimensions, and\n",
    "#      1 in a single dimension.\n",
    "#   - 3 would be [0,0,0,1,0,0,0,0,0,0]\n",
    "# - thus, mist.train.labels is a [55000, 10] array of floats.\n",
    "## Test Set (10,000 dp)\n",
    "## Validation Set (5,000 dp)"
   ]
  },
  {
   "cell_type": "code",
   "execution_count": null,
   "metadata": {
    "collapsed": true
   },
   "outputs": [],
   "source": [
    "### SOFTMAX REGRESSIONS\n",
    "## Objective: look at an image -> get possibility for it being each digit\n",
    "## Usage:\n",
    "# if you want to assign ***probabilities*** to an object being\n",
    "#   one of several different things, softmax is the thing to do.\n",
    "## Steps:\n",
    "# 1. add up the evidence of our input being in certain classes.\n",
    "#   - to do this, we do a weighted sum of the pixel intensities.\n",
    "#   - the weight is negative if that pixel having a high intensity\n",
    "#     is evidence against the image being in that weight,\n",
    "#     and positive if it is evidence in favor.\n",
    "# 2.  convert evidence into probabilities."
   ]
  }
 ],
 "metadata": {
  "kernelspec": {
   "display_name": "Python 3",
   "language": "python",
   "name": "python3"
  },
  "language_info": {
   "codemirror_mode": {
    "name": "ipython",
    "version": 3
   },
   "file_extension": ".py",
   "mimetype": "text/x-python",
   "name": "python",
   "nbconvert_exporter": "python",
   "pygments_lexer": "ipython3",
   "version": "3.5.2"
  }
 },
 "nbformat": 4,
 "nbformat_minor": 2
}
