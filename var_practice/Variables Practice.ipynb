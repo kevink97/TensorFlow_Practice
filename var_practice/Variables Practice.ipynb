{
 "cells": [
  {
   "cell_type": "code",
   "execution_count": 1,
   "metadata": {
    "collapsed": true
   },
   "outputs": [],
   "source": [
    "import tensorflow as tf"
   ]
  },
  {
   "cell_type": "code",
   "execution_count": 2,
   "metadata": {
    "collapsed": true
   },
   "outputs": [],
   "source": [
    "sess = tf.Session()"
   ]
  },
  {
   "cell_type": "code",
   "execution_count": 3,
   "metadata": {},
   "outputs": [
    {
     "name": "stdout",
     "output_type": "stream",
     "text": [
      "[ 0.          0.30000001  0.60000002  0.90000004]\n"
     ]
    }
   ],
   "source": [
    "### VARIABLES ###\n",
    "# variables allow us to add trainable parameters to a graph\n",
    "# constants v. variables\n",
    "#  consants are initialized and immutable.\n",
    "#  variables must be initialized.\n",
    "W = tf.Variable([.3], tf.float32, name=\"W\")\n",
    "b = tf.Variable([-.3], tf.float32, name=\"b\")\n",
    "x = tf.placeholder(tf.float32, name=\"x\") # data point\n",
    "linear_model = W * x + b\n",
    "# init is a handle to the tf subgraph that init all \n",
    "#  global vars.\n",
    "# Note: we can init particular vars by passing in \n",
    "# a list of variables to: tf.initialize_variables(var_list)\n",
    "init = tf.global_variables_initializer()\n",
    "# to actually initialize variable, we need to sess.run it\n",
    "sess.run(init)\n",
    "# evaluates Wx + b and returns the value. from inputing each x.\n",
    "print(sess.run(linear_model, {x: [1, 2, 3, 4]}))"
   ]
  },
  {
   "cell_type": "code",
   "execution_count": 4,
   "metadata": {},
   "outputs": [
    {
     "name": "stdout",
     "output_type": "stream",
     "text": [
      "23.66\n"
     ]
    }
   ],
   "source": [
    "### LOSS FUNCTION ###\n",
    "# specifically.... sum of squares of the delta\n",
    "y = tf.placeholder(tf.float32, name=\"y\")\n",
    "# sq_delt = (y_hat - y)^2\n",
    "squared_deltas = tf.square(linear_model - y, name=\"sq_delt\")\n",
    "loss = tf.reduce_sum(squared_deltas, name=\"sum_sq_delt\") # sum of squares\n",
    "print(sess.run(loss, {x:[1,2,3,4], y:[0,-1,-2,-3]}))"
   ]
  },
  {
   "cell_type": "code",
   "execution_count": 6,
   "metadata": {},
   "outputs": [
    {
     "name": "stdout",
     "output_type": "stream",
     "text": [
      "0.0\n"
     ]
    }
   ],
   "source": [
    "### WHEN WE KNOW SHIT SO WE (HUMANS) TRAIN THE MODEL ###\n",
    "fixW = tf.assign(W, [-1.], name=\"assign_W\") # assigns variable with the constant\n",
    "fixb = tf.assign(b, [1.], name=\"assign_b\")\n",
    "sess.run([fixW, fixb])\n",
    "print(sess.run(loss, {x:[1,2,3,4], y:[0,-1,-2,-3]}))"
   ]
  },
  {
   "cell_type": "code",
   "execution_count": 7,
   "metadata": {
    "collapsed": true
   },
   "outputs": [],
   "source": [
    "# writes the current state into a serializable format\n",
    "# to visualize the graph from sess.graph, \n",
    "#  go to localhost:6006\n",
    "file_writer = tf.summary.FileWriter('.', sess.graph)"
   ]
  },
  {
   "cell_type": "code",
   "execution_count": null,
   "metadata": {
    "collapsed": true
   },
   "outputs": [],
   "source": []
  }
 ],
 "metadata": {
  "kernelspec": {
   "display_name": "Python 3",
   "language": "python",
   "name": "python3"
  },
  "language_info": {
   "codemirror_mode": {
    "name": "ipython",
    "version": 3
   },
   "file_extension": ".py",
   "mimetype": "text/x-python",
   "name": "python",
   "nbconvert_exporter": "python",
   "pygments_lexer": "ipython3",
   "version": "3.5.2"
  }
 },
 "nbformat": 4,
 "nbformat_minor": 2
}
