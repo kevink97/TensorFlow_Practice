{
 "cells": [
  {
   "cell_type": "code",
   "execution_count": 1,
   "metadata": {
    "collapsed": true
   },
   "outputs": [],
   "source": [
    "import numpy as np\n",
    "import tensorflow as tf"
   ]
  },
  {
   "cell_type": "code",
   "execution_count": 2,
   "metadata": {
    "collapsed": true
   },
   "outputs": [],
   "source": [
    "# declare list of features\n",
    "# labels: if mode is ModeKeys.INFER... then we need labels\n",
    "# mode: one of the modekeys... specifies whether it is \n",
    "#  evaluation or prediction.\n",
    "def model(features, labels, mode):\n",
    "    # build a linear model and predict values\n",
    "    W = tf.get_variable(\"W\", [1], dtype=tf.float64)\n",
    "    b = tf.get_variable(\"b\", [1], dtype=tf.float64)\n",
    "    y = W * features['x'] + b\n",
    "    \n",
    "    # loss function: sum of squared differences\n",
    "    loss = tf.reduce_sum(tf.square(y-labels))\n",
    "    \n",
    "    # Training sub-graph\n",
    "    # global_step keeps track of number of batches seen so far\n",
    "    global_step = tf.train.get_global_step()\n",
    "    optimizer = tf.train.GradientDescentOptimizer(0.01)\n",
    "    # tf.group executes each ops in group.\n",
    "    #  once each ops in group has finished, \n",
    "    # the group ops is finished\n",
    "    train = tf.group(optimizer.minimize(loss),\n",
    "                    tf.assign_add(global_step, 1))\n",
    "    \n",
    "    # modelfnops connects subgraph we built to the \n",
    "    #  appropriate functionality.\n",
    "    return tf.contrib.learn.ModelFnOps(mode=mode,\n",
    "                                      predictions=y,\n",
    "                                      loss=loss,\n",
    "                                      train_op=train)"
   ]
  },
  {
   "cell_type": "code",
   "execution_count": 3,
   "metadata": {},
   "outputs": [
    {
     "name": "stdout",
     "output_type": "stream",
     "text": [
      "INFO:tensorflow:Using default config.\n",
      "INFO:tensorflow:Using config: {'_save_checkpoints_steps': None, '_master': '', '_num_worker_replicas': 0, '_keep_checkpoint_max': 5, '_save_checkpoints_secs': 600, '_is_chief': True, '_model_dir': None, '_tf_random_seed': None, '_save_summary_steps': 100, '_task_id': 0, '_keep_checkpoint_every_n_hours': 10000, '_cluster_spec': <tensorflow.python.training.server_lib.ClusterSpec object at 0x1108c0b38>, '_evaluation_master': '', '_num_ps_replicas': 0, '_task_type': None, '_environment': 'local', '_tf_config': gpu_options {\n",
      "  per_process_gpu_memory_fraction: 1\n",
      "}\n",
      "}\n",
      "WARNING:tensorflow:Using temporary folder as model directory: /var/folders/b9/8vl8wwsx1g748f_v7pmts60m0000gn/T/tmpecu3arxc\n"
     ]
    }
   ],
   "source": [
    "estimator = tf.contrib.learn.Estimator(model_fn=model)"
   ]
  },
  {
   "cell_type": "code",
   "execution_count": 5,
   "metadata": {},
   "outputs": [],
   "source": [
    "# define data set\n",
    "x = np.array([1., 2., 3., 4.])\n",
    "y = np.array([0., -1., -2., -3.])\n",
    "input_fn = tf.contrib.learn.io.numpy_input_fn({\"x\":x}, y, 4, num_epochs=1000)"
   ]
  },
  {
   "cell_type": "code",
   "execution_count": 6,
   "metadata": {},
   "outputs": [
    {
     "name": "stdout",
     "output_type": "stream",
     "text": [
      "INFO:tensorflow:Create CheckpointSaverHook.\n",
      "INFO:tensorflow:Saving checkpoints for 1 into /var/folders/b9/8vl8wwsx1g748f_v7pmts60m0000gn/T/tmpecu3arxc/model.ckpt.\n",
      "INFO:tensorflow:loss = 10.8713330994, step = 1\n",
      "INFO:tensorflow:global_step/sec: 1544.23\n",
      "INFO:tensorflow:loss = 0.451750956518, step = 101 (0.067 sec)\n",
      "INFO:tensorflow:global_step/sec: 1466.64\n",
      "INFO:tensorflow:loss = 0.0168395632177, step = 201 (0.068 sec)\n",
      "INFO:tensorflow:global_step/sec: 1537.02\n",
      "INFO:tensorflow:loss = 0.00194870248981, step = 301 (0.065 sec)\n",
      "INFO:tensorflow:global_step/sec: 1631.32\n",
      "INFO:tensorflow:loss = 0.000122443819633, step = 401 (0.062 sec)\n",
      "INFO:tensorflow:global_step/sec: 1486.01\n",
      "INFO:tensorflow:loss = 2.77212805523e-05, step = 501 (0.067 sec)\n",
      "INFO:tensorflow:global_step/sec: 1540.48\n",
      "INFO:tensorflow:loss = 1.65511813602e-06, step = 601 (0.065 sec)\n",
      "INFO:tensorflow:global_step/sec: 1546.53\n",
      "INFO:tensorflow:loss = 5.14806061164e-08, step = 701 (0.065 sec)\n",
      "INFO:tensorflow:global_step/sec: 1608.1\n",
      "INFO:tensorflow:loss = 2.47137485628e-08, step = 801 (0.061 sec)\n",
      "INFO:tensorflow:global_step/sec: 1856.18\n",
      "INFO:tensorflow:loss = 2.01613576918e-09, step = 901 (0.054 sec)\n",
      "INFO:tensorflow:Saving checkpoints for 1000 into /var/folders/b9/8vl8wwsx1g748f_v7pmts60m0000gn/T/tmpecu3arxc/model.ckpt.\n",
      "INFO:tensorflow:Loss for final step: 1.9006443699e-10.\n"
     ]
    },
    {
     "data": {
      "text/plain": [
       "Estimator(params=None)"
      ]
     },
     "execution_count": 6,
     "metadata": {},
     "output_type": "execute_result"
    }
   ],
   "source": [
    "# train\n",
    "estimator.fit(input_fn=input_fn, steps=1000)"
   ]
  },
  {
   "cell_type": "code",
   "execution_count": 7,
   "metadata": {},
   "outputs": [
    {
     "name": "stdout",
     "output_type": "stream",
     "text": [
      "INFO:tensorflow:Starting evaluation at 2017-06-14-00:19:39\n",
      "INFO:tensorflow:Restoring parameters from /var/folders/b9/8vl8wwsx1g748f_v7pmts60m0000gn/T/tmpecu3arxc/model.ckpt-1000\n",
      "INFO:tensorflow:Evaluation [1/10]\n",
      "INFO:tensorflow:Evaluation [2/10]\n",
      "INFO:tensorflow:Evaluation [3/10]\n",
      "INFO:tensorflow:Evaluation [4/10]\n",
      "INFO:tensorflow:Evaluation [5/10]\n",
      "INFO:tensorflow:Evaluation [6/10]\n",
      "INFO:tensorflow:Evaluation [7/10]\n",
      "INFO:tensorflow:Evaluation [8/10]\n",
      "INFO:tensorflow:Evaluation [9/10]\n",
      "INFO:tensorflow:Evaluation [10/10]\n",
      "INFO:tensorflow:Finished evaluation at 2017-06-14-00:19:39\n",
      "INFO:tensorflow:Saving dict for global step 1000: global_step = 1000, loss = 8.74151e-11\n",
      "WARNING:tensorflow:Skipping summary for global_step, must be a float or np.float32.\n",
      "{'loss': 8.7415061e-11, 'global_step': 1000}\n"
     ]
    }
   ],
   "source": [
    "print(estimator.evaluate(input_fn=input_fn, steps=10))"
   ]
  },
  {
   "cell_type": "code",
   "execution_count": null,
   "metadata": {
    "collapsed": true
   },
   "outputs": [],
   "source": []
  }
 ],
 "metadata": {
  "kernelspec": {
   "display_name": "Python 3",
   "language": "python",
   "name": "python3"
  },
  "language_info": {
   "codemirror_mode": {
    "name": "ipython",
    "version": 3
   },
   "file_extension": ".py",
   "mimetype": "text/x-python",
   "name": "python",
   "nbconvert_exporter": "python",
   "pygments_lexer": "ipython3",
   "version": "3.5.2"
  }
 },
 "nbformat": 4,
 "nbformat_minor": 2
}
