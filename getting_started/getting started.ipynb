{
 "cells": [
  {
   "cell_type": "code",
   "execution_count": 1,
   "metadata": {
    "collapsed": true
   },
   "outputs": [],
   "source": [
    "import tensorflow as tf"
   ]
  },
  {
   "cell_type": "code",
   "execution_count": 29,
   "metadata": {},
   "outputs": [
    {
     "name": "stdout",
     "output_type": "stream",
     "text": [
      "Tensor(\"Const_10:0\", shape=(), dtype=float32) Tensor(\"Const_11:0\", shape=(), dtype=float32)\n"
     ]
    }
   ],
   "source": [
    "### COMPUTATIONAL GRAPH & NODES/TENSORS ###\n",
    "# computational graph: series of tf ops arranged into a graph of nodes.\n",
    "# Each tensor(s) -> |node| -> tensor\n",
    "node1 = tf.constant(3.0, tf.float32)\n",
    "node2 = tf.constant(4.0) # tf.float32 implicitly\n",
    "print(node1, node2)\n",
    "# note that the above print statement does not output the values.\n",
    "# instead, they are nodes that, ***when evaluated*** produces the constant."
   ]
  },
  {
   "cell_type": "code",
   "execution_count": 30,
   "metadata": {},
   "outputs": [
    {
     "name": "stdout",
     "output_type": "stream",
     "text": [
      "[3.0, 4.0]\n"
     ]
    }
   ],
   "source": [
    "### SESSION ####\n",
    "# to evaluate nodes, we must run the computational graph within a session.\n",
    "sess = tf.Session() # creates a Session obj. \n",
    "print(sess.run([node1, node2])) # evaluates node1 and node2"
   ]
  },
  {
   "cell_type": "code",
   "execution_count": 31,
   "metadata": {
    "scrolled": true
   },
   "outputs": [
    {
     "name": "stdout",
     "output_type": "stream",
     "text": [
      "node3:  Tensor(\"Add_5:0\", shape=(), dtype=float32)\n",
      "sess.run(node3):  7.0\n"
     ]
    }
   ],
   "source": [
    "### OPERATIONS ###\n",
    "node3 = tf.add(node1, node2) # operations are also tensor nodes.\n",
    "print(\"node3: \", node3)\n",
    "print(\"sess.run(node3): \", sess.run(node3))"
   ]
  },
  {
   "cell_type": "code",
   "execution_count": 5,
   "metadata": {},
   "outputs": [
    {
     "name": "stdout",
     "output_type": "stream",
     "text": [
      "22.5\n"
     ]
    }
   ],
   "source": [
    "### PARAMETERIZED GRAPH ###\n",
    "# here is a graph where we have:\n",
    "#   (a, b) => adder_node\n",
    "p_sess = tf.Session()\n",
    "a = tf.placeholder(tf.float32)\n",
    "b = tf.placeholder(tf.float32)\n",
    "adder_node = a + b # shortcut for tf.add(a, b)\n",
    "add_and_triple = adder_node * 3.\n",
    "print(p_sess.run(add_and_triple, feed_dict={a: 3, b:4.5}))\n",
    "# print(p_sess.run(adder_node, {a: [1,3], b: [2, 4]}))"
   ]
  },
  {
   "cell_type": "code",
   "execution_count": null,
   "metadata": {},
   "outputs": [],
   "source": []
  },
  {
   "cell_type": "code",
   "execution_count": 6,
   "metadata": {
    "collapsed": true
   },
   "outputs": [],
   "source": [
    "# writes the current state into a serializable format\n",
    "# to visualize the graph from sess.graph, \n",
    "#  go to localhost:6006\n",
    "file_writer = tf.summary.FileWriter('.', p_sess.graph)"
   ]
  },
  {
   "cell_type": "code",
   "execution_count": null,
   "metadata": {
    "collapsed": true
   },
   "outputs": [],
   "source": []
  }
 ],
 "metadata": {
  "kernelspec": {
   "display_name": "Python 3",
   "language": "python",
   "name": "python3"
  },
  "language_info": {
   "codemirror_mode": {
    "name": "ipython",
    "version": 3
   },
   "file_extension": ".py",
   "mimetype": "text/x-python",
   "name": "python",
   "nbconvert_exporter": "python",
   "pygments_lexer": "ipython3",
   "version": "3.5.2"
  }
 },
 "nbformat": 4,
 "nbformat_minor": 2
}
